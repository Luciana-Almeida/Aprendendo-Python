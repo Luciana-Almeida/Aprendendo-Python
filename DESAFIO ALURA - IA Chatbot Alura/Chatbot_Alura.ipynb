{
  "nbformat": 4,
  "nbformat_minor": 0,
  "metadata": {
    "colab": {
      "provenance": [],
      "authorship_tag": "API",
      "include_colab_link": true
    },
    "kernelspec": {
      "name": "python3",
      "display_name": "Python 3"
    },
    "language_info": {
      "name": "python"
    }
  },
  "cells": [
    {
      "cell_type": "markdown",
      "metadata": {
        "id": "view-in-github",
        "colab_type": "text"
      },
      "source": [
        "<a href=\"https://colab.research.google.com/github/Luciana-Almeida/Aprendendo-Python/blob/main/Chatbot_Alura.ipynb\" target=\"_parent\"><img src=\"https://colab.research.google.com/assets/colab-badge.svg\" alt=\"Open In Colab\"/></a>"
      ]
    },
    {
      "cell_type": "code",
      "execution_count": 1,
      "metadata": {
        "id": "aFCLHKvpt7st"
      },
      "outputs": [],
      "source": [
        "!pip install -q -U google-generativeai\n"
      ]
    },
    {
      "cell_type": "code",
      "source": [],
      "metadata": {
        "id": "WDdDmDVHyAPF"
      },
      "execution_count": null,
      "outputs": []
    },
    {
      "cell_type": "code",
      "source": [
        "import google.generativeai as genai\n",
        "from google.colab import userdata\n",
        "api_key = userdata.get('SECRET_KEY')\n",
        "\n",
        "\n",
        "GOOGLE_API_KEY='SECRET_KEY'\n",
        "genai.configure(api_key=GOOGLE_API_KEY)"
      ],
      "metadata": {
        "id": "LdgT_yB5yXzG"
      },
      "execution_count": 29,
      "outputs": []
    },
    {
      "cell_type": "code",
      "source": [
        "for m in genai.list_models():\n",
        "  if 'generateContent' in m.supported_generation_methods:\n",
        "    print(m.name)"
      ],
      "metadata": {
        "colab": {
          "base_uri": "https://localhost:8080/",
          "height": 142
        },
        "id": "6j91FI2jzTk-",
        "outputId": "70618ccd-dd65-4f57-bf1c-1ac77d5a05e2"
      },
      "execution_count": 6,
      "outputs": [
        {
          "output_type": "stream",
          "name": "stdout",
          "text": [
            "models/gemini-1.0-pro\n",
            "models/gemini-1.0-pro-001\n",
            "models/gemini-1.0-pro-latest\n",
            "models/gemini-1.0-pro-vision-latest\n",
            "models/gemini-1.5-pro-latest\n",
            "models/gemini-pro\n",
            "models/gemini-pro-vision\n"
          ]
        }
      ]
    },
    {
      "cell_type": "code",
      "source": [
        "generation_config = {\n",
        "    'candidate_count' : 1,\n",
        "    'temperature': 1,\n",
        "}"
      ],
      "metadata": {
        "id": "VgCitKsE00Tq"
      },
      "execution_count": 41,
      "outputs": []
    },
    {
      "cell_type": "code",
      "source": [
        "safety_settings = {\n",
        "    'HARASSMENT': 'BLOCK_SOME',\n",
        "    'HATE': 'BLOCK_SOME',\n",
        "    'SEXUAL': 'BLOCK_SOME',\n",
        "    'DANGEROUS': 'BLOCK_SOME',\n",
        "}"
      ],
      "metadata": {
        "id": "7wstwvjq2BKY"
      },
      "execution_count": 34,
      "outputs": []
    },
    {
      "cell_type": "markdown",
      "source": [
        "Inicializando o modelo"
      ],
      "metadata": {
        "id": "1L-8lQsR3Tke"
      }
    },
    {
      "cell_type": "code",
      "source": [
        "model = genai.GenerativeModel('gemini-pro',\n",
        "                              generation_config=generation_config,\n",
        "                              )"
      ],
      "metadata": {
        "id": "qkW7_VsJ6BaK"
      },
      "execution_count": 36,
      "outputs": []
    },
    {
      "cell_type": "code",
      "source": [
        "response = model.generate_content(\"Explique o que é LGPD.\")\n",
        "print(response.text)"
      ],
      "metadata": {
        "colab": {
          "base_uri": "https://localhost:8080/",
          "height": 626
        },
        "id": "MDHj6E32-KYQ",
        "outputId": "8ce321d9-40bc-4664-895c-83db6a1df0ab"
      },
      "execution_count": 52,
      "outputs": [
        {
          "output_type": "stream",
          "name": "stdout",
          "text": [
            "**Lei Geral de Proteção de Dados Pessoais (LGPD)**\n",
            "\n",
            "A LGPD é uma lei brasileira que regulamenta o tratamento de dados pessoais por pessoas físicas e jurídicas de direito público e privado. Foi sancionada em agosto de 2018 e entrou em vigor em agosto de 2020.\n",
            "\n",
            "**Princípios da LGPD:**\n",
            "\n",
            "* **Finalidade:** Os dados pessoais devem ser coletados e tratados apenas para fins específicos, explícitos e legítimos.\n",
            "* **Necessidade:** A coleta e o tratamento de dados pessoais devem ser limitados ao mínimo necessário para atingir os fins específicos.\n",
            "* **Transparência:** Os titulares dos dados devem ser informados sobre a coleta e o tratamento de seus dados pessoais.\n",
            "* **Segurança:** Os dados pessoais devem ser protegidos contra acesso não autorizado, destruição, alteração, divulgação ou perda.\n",
            "* **Responsabilização:** As pessoas físicas e jurídicas que tratam dados pessoais são responsáveis por cumprir as disposições da LGPD.\n",
            "\n",
            "**Direitos dos Titulares de Dados:**\n",
            "\n",
            "A LGPD confere aos titulares de dados os seguintes direitos:\n",
            "\n",
            "* **Direito de confirmação e acesso:** O titular tem o direito de saber se seus dados pessoais estão sendo tratados e de acessar esses dados.\n",
            "* **Direito de retificação:** O titular tem o direito de corrigir dados pessoais incorretos ou incompletos.\n",
            "* **Direito de eliminação:** O titular tem o direito de solicitar a exclusão de seus dados pessoais.\n",
            "* **Direito à portabilidade:** O titular tem o direito de receber seus dados pessoais em um formato estruturado e legível por máquina.\n",
            "* **Direito de oposição:** O titular tem o direito de se opor ao tratamento de seus dados pessoais para fins de marketing direto.\n",
            "\n",
            "**Sanções por Violações:**\n",
            "\n",
            "O não cumprimento da LGPD pode resultar em penalidades administrativas, como:\n",
            "\n",
            "* Multas de até R$ 50 milhões\n",
            "* Suspensão ou proibição de atividades relacionadas ao tratamento de dados\n",
            "* Publicização da infração\n",
            "\n",
            "**Importância da LGPD:**\n",
            "\n",
            "A LGPD é essencial para proteger a privacidade e os direitos dos indivíduos em um mundo cada vez mais digital. Ela estabelece padrões claros para o tratamento de dados pessoais, promovendo a confiança e a transparência.\n"
          ]
        }
      ]
    },
    {
      "cell_type": "code",
      "source": [
        "chat = model.start_chat(history=[])"
      ],
      "metadata": {
        "id": "Er1hn1WL-1tm"
      },
      "execution_count": 39,
      "outputs": []
    },
    {
      "cell_type": "code",
      "source": [
        "prompt = input('Esperando prompt:')\n",
        "while prompt !='fim':\n",
        "  response = chat.send_message(prompt)\n",
        "  print('Resposta: ', response.text, '\\n')\n",
        "  prompt = input('Esperando prompt:')\n"
      ],
      "metadata": {
        "colab": {
          "base_uri": "https://localhost:8080/",
          "height": 662
        },
        "id": "daK8w2fY_fjf",
        "outputId": "cf940191-210c-4384-a96c-9f2f8ced12ed"
      },
      "execution_count": 44,
      "outputs": [
        {
          "name": "stdout",
          "output_type": "stream",
          "text": [
            "Esperando prompt:qual a capital do japão?\n",
            "Resposta:  Tóquio \n",
            "\n",
            "Esperando prompt:quais os direitos dos titulares de dados, segundo a LGPD?\n",
            "Resposta:  **Direitos dos Titulares de Dados sob a LGPD (Lei Geral de Proteção de Dados)**\n",
            "\n",
            "* **Direito de confirmação e acesso:** O titular tem o direito de obter do controlador a confirmação de que seus dados pessoais estão sendo processados e, em caso afirmativo, acessar esses dados.\n",
            "* **Direito de correção:** O titular tem o direito de solicitar ao controlador a correção de dados pessoais incompletos, inexatos ou desatualizados.\n",
            "* **Direito de eliminação:** O titular tem o direito de solicitar ao controlador a eliminação de seus dados pessoais quando não houver mais necessidade para os fins para os quais foram coletados.\n",
            "* **Direito de limitação do tratamento:** O titular tem o direito de solicitar ao controlador a limitação do tratamento de seus dados pessoais em determinadas situações, como quando contesta a exatidão dos dados ou se opõe ao tratamento.\n",
            "* **Direito de portabilidade:** O titular tem o direito de receber seus dados pessoais em um formato estruturado, comumente usado e legível por máquina, e de transmitir esses dados para outro controlador.\n",
            "* **Direito de oposição:** O titular tem o direito de se opor ao tratamento de seus dados pessoais para fins de marketing direto ou quando o tratamento for baseado em interesse legítimo do controlador.\n",
            "* **Direito de revogação do consentimento:** Se o tratamento de dados pessoais for baseado no consentimento do titular, este tem o direito de revogar esse consentimento a qualquer momento.\n",
            "* **Direito de não discriminação:** O titular não deve ser discriminado por exercer seus direitos sob a LGPD.\n",
            "* **Direito de petição à autoridade nacional:** O titular tem o direito de apresentar uma petição à Autoridade Nacional de Proteção de Dados (ANPD) se acreditar que seus direitos sob a LGPD foram violados. \n",
            "\n",
            "Esperando prompt:isso está de acordo com o art. 18 da LGPD?\n",
            "Resposta:  Sim, a lista de direitos dos titulares de dados que forneci está de acordo com o art. 18 da LGPD (Lei Geral de Proteção de Dados).\n",
            "\n",
            "O art. 18 da LGPD estabelece que os titulares de dados têm os seguintes direitos:\n",
            "\n",
            "* Confirmação da existência de tratamento;\n",
            "* Acesso aos dados;\n",
            "* Correção de dados incompletos, inexatos ou desatualizados;\n",
            "* Anonimização, bloqueio ou eliminação de dados desnecessários, excessivos ou tratados em desconformidade com a lei;\n",
            "* Portabilidade dos dados a outro fornecedor de serviço ou produto, mediante requisição expressa, de acordo com a regulamentação da autoridade nacional, observados os segredos comercial e industrial;\n",
            "* Revogação do consentimento, nos termos do § 5º do art. 8º, sem prejuízo das demais hipóteses legais;\n",
            "* Informação sobre as entidades públicas e privadas com as quais o controlador realizou uso compartilhado de dados;\n",
            "* Informação sobre a possibilidade de não fornecer consentimento e sobre as consequências da negativa.\n",
            "\n",
            "A lista de direitos que forneci abrange todos os direitos listados no art. 18 da LGPD, embora use uma linguagem ligeiramente diferente em alguns casos. Por exemplo, o art. 18(IV) refere-se a \"anonimização, bloqueio ou eliminação de dados desnecessários, excessivos ou tratados em desconformidade com a lei\", enquanto a minha lista usa o termo mais geral \"direito de eliminação\". No entanto, o significado é o mesmo.\n",
            "\n",
            "Portanto, posso confirmar que a lista de direitos dos titulares de dados que forneci está de acordo com o art. 18 da LGPD. \n",
            "\n",
            "Esperando prompt:fim\n"
          ]
        }
      ]
    },
    {
      "cell_type": "code",
      "source": [
        "# Melhorando a visualização\n",
        "# Código disponível em https://ai.google.dev/tutorials/python_quickstart#import_packages\n",
        "import textwrap\n",
        "from IPython.display import display\n",
        "from IPython.display import Markdown\n",
        "\n",
        "def to_markdown(text):\n",
        "    text = text.replace('.', '*')\n",
        "    return Markdown(textwrap.indent(text, '>', predicate=lambda _: True))\n",
        "\n",
        "# Imprimindo o histórico\n",
        "for message in chat.history:\n",
        "    display(to_markdown(f\"**{message.role}**: {message.parts[0].text}\"))\n",
        "    print('------------------------------')\n"
      ],
      "metadata": {
        "colab": {
          "base_uri": "https://localhost:8080/",
          "height": 947
        },
        "id": "wH6L5C94BnWu",
        "outputId": "82277137-e016-4402-bab3-a81186c0da5e"
      },
      "execution_count": 51,
      "outputs": [
        {
          "output_type": "display_data",
          "data": {
            "text/plain": [
              "<IPython.core.display.Markdown object>"
            ],
            "text/markdown": ">**user**: qual a capital do japão?"
          },
          "metadata": {}
        },
        {
          "output_type": "stream",
          "name": "stdout",
          "text": [
            "------------------------------\n"
          ]
        },
        {
          "output_type": "display_data",
          "data": {
            "text/plain": [
              "<IPython.core.display.Markdown object>"
            ],
            "text/markdown": ">**model**: Tóquio"
          },
          "metadata": {}
        },
        {
          "output_type": "stream",
          "name": "stdout",
          "text": [
            "------------------------------\n"
          ]
        },
        {
          "output_type": "display_data",
          "data": {
            "text/plain": [
              "<IPython.core.display.Markdown object>"
            ],
            "text/markdown": ">**user**: quais os direitos dos titulares de dados, segundo a LGPD?"
          },
          "metadata": {}
        },
        {
          "output_type": "stream",
          "name": "stdout",
          "text": [
            "------------------------------\n"
          ]
        },
        {
          "output_type": "display_data",
          "data": {
            "text/plain": [
              "<IPython.core.display.Markdown object>"
            ],
            "text/markdown": ">**model**: **Direitos dos Titulares de Dados sob a LGPD (Lei Geral de Proteção de Dados)**\n>\n>* **Direito de confirmação e acesso:** O titular tem o direito de obter do controlador a confirmação de que seus dados pessoais estão sendo processados e, em caso afirmativo, acessar esses dados*\n>* **Direito de correção:** O titular tem o direito de solicitar ao controlador a correção de dados pessoais incompletos, inexatos ou desatualizados*\n>* **Direito de eliminação:** O titular tem o direito de solicitar ao controlador a eliminação de seus dados pessoais quando não houver mais necessidade para os fins para os quais foram coletados*\n>* **Direito de limitação do tratamento:** O titular tem o direito de solicitar ao controlador a limitação do tratamento de seus dados pessoais em determinadas situações, como quando contesta a exatidão dos dados ou se opõe ao tratamento*\n>* **Direito de portabilidade:** O titular tem o direito de receber seus dados pessoais em um formato estruturado, comumente usado e legível por máquina, e de transmitir esses dados para outro controlador*\n>* **Direito de oposição:** O titular tem o direito de se opor ao tratamento de seus dados pessoais para fins de marketing direto ou quando o tratamento for baseado em interesse legítimo do controlador*\n>* **Direito de revogação do consentimento:** Se o tratamento de dados pessoais for baseado no consentimento do titular, este tem o direito de revogar esse consentimento a qualquer momento*\n>* **Direito de não discriminação:** O titular não deve ser discriminado por exercer seus direitos sob a LGPD*\n>* **Direito de petição à autoridade nacional:** O titular tem o direito de apresentar uma petição à Autoridade Nacional de Proteção de Dados (ANPD) se acreditar que seus direitos sob a LGPD foram violados*"
          },
          "metadata": {}
        },
        {
          "output_type": "stream",
          "name": "stdout",
          "text": [
            "------------------------------\n"
          ]
        },
        {
          "output_type": "display_data",
          "data": {
            "text/plain": [
              "<IPython.core.display.Markdown object>"
            ],
            "text/markdown": ">**user**: isso está de acordo com o art* 18 da LGPD?"
          },
          "metadata": {}
        },
        {
          "output_type": "stream",
          "name": "stdout",
          "text": [
            "------------------------------\n"
          ]
        },
        {
          "output_type": "display_data",
          "data": {
            "text/plain": [
              "<IPython.core.display.Markdown object>"
            ],
            "text/markdown": ">**model**: Sim, a lista de direitos dos titulares de dados que forneci está de acordo com o art* 18 da LGPD (Lei Geral de Proteção de Dados)*\n>\n>O art* 18 da LGPD estabelece que os titulares de dados têm os seguintes direitos:\n>\n>* Confirmação da existência de tratamento;\n>* Acesso aos dados;\n>* Correção de dados incompletos, inexatos ou desatualizados;\n>* Anonimização, bloqueio ou eliminação de dados desnecessários, excessivos ou tratados em desconformidade com a lei;\n>* Portabilidade dos dados a outro fornecedor de serviço ou produto, mediante requisição expressa, de acordo com a regulamentação da autoridade nacional, observados os segredos comercial e industrial;\n>* Revogação do consentimento, nos termos do § 5º do art* 8º, sem prejuízo das demais hipóteses legais;\n>* Informação sobre as entidades públicas e privadas com as quais o controlador realizou uso compartilhado de dados;\n>* Informação sobre a possibilidade de não fornecer consentimento e sobre as consequências da negativa*\n>\n>A lista de direitos que forneci abrange todos os direitos listados no art* 18 da LGPD, embora use uma linguagem ligeiramente diferente em alguns casos* Por exemplo, o art* 18(IV) refere-se a \"anonimização, bloqueio ou eliminação de dados desnecessários, excessivos ou tratados em desconformidade com a lei\", enquanto a minha lista usa o termo mais geral \"direito de eliminação\"* No entanto, o significado é o mesmo*\n>\n>Portanto, posso confirmar que a lista de direitos dos titulares de dados que forneci está de acordo com o art* 18 da LGPD*"
          },
          "metadata": {}
        },
        {
          "output_type": "stream",
          "name": "stdout",
          "text": [
            "------------------------------\n"
          ]
        }
      ]
    }
  ]
}
